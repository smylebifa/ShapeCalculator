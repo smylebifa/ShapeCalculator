{
  "nbformat": 4,
  "nbformat_minor": 0,
  "metadata": {
    "colab": {
      "name": "FiguresCalculation.ipynb",
      "provenance": [],
      "collapsed_sections": [],
      "authorship_tag": "ABX9TyPwQP7L7q0casqDA7+ZLvd1",
      "include_colab_link": true
    },
    "kernelspec": {
      "display_name": "Python 3",
      "name": "python3"
    },
    "language_info": {
      "name": "python"
    }
  },
  "cells": [
    {
      "cell_type": "markdown",
      "metadata": {
        "id": "view-in-github",
        "colab_type": "text"
      },
      "source": [
        "<a href=\"https://colab.research.google.com/github/smylebifa/FigureCalculator/blob/main/FiguresCalculation.ipynb\" target=\"_parent\"><img src=\"https://colab.research.google.com/assets/colab-badge.svg\" alt=\"Open In Colab\"/></a>"
      ]
    },
    {
      "cell_type": "markdown",
      "metadata": {
        "id": "klxbycsha6MJ"
      },
      "source": [
        "# Import libs"
      ]
    },
    {
      "cell_type": "code",
      "metadata": {
        "id": "iv96f4Ch58FI"
      },
      "source": [
        "import math"
      ],
      "execution_count": 18,
      "outputs": []
    },
    {
      "cell_type": "markdown",
      "metadata": {
        "id": "dywaYd8iavBo"
      },
      "source": [
        "# Create shape classes "
      ]
    },
    {
      "cell_type": "code",
      "metadata": {
        "id": "LCDga5IBLzjn"
      },
      "source": [
        "# Shape\n",
        "class Shape:\n",
        "    title = 'Shape'\n",
        " \n",
        "    def area(self):\n",
        "        pass\n",
        "\n",
        "    def perimeter(self):\n",
        "       pass\n",
        "\n",
        "\n",
        "# Square\n",
        "class Square(Shape):\n",
        "    title = 'Square'\n",
        " \n",
        "    def __init__(self, x:float):\n",
        "       super().__init__()\n",
        "       self.__x = x\n",
        " \n",
        "    def area(self):\n",
        "        return self.__x ** 2\n",
        "\n",
        "    def perimeter(self):\n",
        "       return self.__x * 12 \n",
        "\n",
        "\n",
        "# Cube\n",
        "class Cube(Square):\n",
        "    title = 'Cube'\n",
        " \n",
        "    def area(self):\n",
        "        return super().area() * 6\n",
        "\n",
        "    def perimeter(self):\n",
        "       return self.__x * 12 \n",
        "\n",
        "\n",
        "# Rectangle \n",
        "class Rectangle(Square):\n",
        "    title = 'Rectangle'\n",
        " \n",
        "    def __init__(self, x:float, y:float):\n",
        "        super().__init__(x)\n",
        "        self.__y = y\n",
        " \n",
        "    def area(self):\n",
        "        return self.__x * self.__y\n",
        "\n",
        "\n",
        "# Trapezoid\n",
        "class Trapezoid(Rectangle):\n",
        "    title = 'Trapezoid'\n",
        " \n",
        "    def __init__(self, x:float, y:float, h:float):\n",
        "        super().__init__(x, y)\n",
        "        self.__h = h\n",
        " \n",
        "    def area(self):\n",
        "       return 0.5 * (self.__x + self.__y) * self.__h \n",
        "\n",
        "\n",
        "# Rhombus\n",
        "class Rhombus(Rectangle):\n",
        "    title = 'Rhombus'\n",
        " \n",
        "    def area(self):\n",
        "        return super().area() \n",
        "\n",
        "\n",
        "# Triangle\n",
        "class Triangle(Rectangle):\n",
        "    title = 'Triangle'\n",
        " \n",
        "    def area(self):\n",
        "       return super().area() * 0.5\n",
        "\n",
        "\n",
        "# Parallelepiped\n",
        "class Parallelepiped(Trapezoid):\n",
        "    title = 'Parallelepiped'\n",
        " \n",
        "    def __init__(self, x:float, y:float, h:float):\n",
        "        super().__init__(x, y, h)\n",
        " \n",
        "    def area(self):\n",
        "        return 2 * (self.__x + self.__y) * self.__h \n",
        "\n",
        "\n",
        "# Pyramid\n",
        "class Pyramid(Rectangle):\n",
        "  title = 'Pyramid'\n",
        "  \n",
        "  # x - base edge, y - side edge\n",
        "  def __init__(self, x, y):\n",
        "    super().__init__(x, y)\n",
        "    \n",
        "  def area(self):\n",
        "      return self.__x**2 + 2*self.__x + math.sqrt((self.__y**2) - (self.__x**2 / 4))\n",
        "\n",
        "\n",
        "# Circle\n",
        "class Circle(Shape):\n",
        "    title = 'Circle'\n",
        "    pi = 3.14\n",
        " \n",
        "    def __init__(self, r):\n",
        "       super().__init__()\n",
        "       self.__r = r\n",
        " \n",
        "    def area(self):\n",
        "        return Circle.pi * self.__r ** 2\n",
        "\n",
        "    def perimeter(self):\n",
        "        return self.__x * Circle.pi * 2\n",
        "\n",
        "\n",
        "# Sphere\n",
        "class Sphere(Circle):\n",
        "    title = 'Sphere'\n",
        " \n",
        "    def area(self):\n",
        "        return super().area() * 4\n",
        "\n",
        "\n",
        "# Cylinder\n",
        "class Cylinder (Circle):\n",
        "    title = 'Cylinder'\n",
        "\n",
        "    def __init__(self, r:float, h:float):\n",
        "        super().__init__(r)\n",
        "        self.__h = h\n",
        "    \n",
        "    def area(self):\n",
        "        return 2 * (self.__r**2 * Cylinder.pi) + 2 * (self.__r * Cylinder.pi * self.__h)\n",
        "\n",
        "\n",
        "# Cone\n",
        "class Cone (Cylinder):\n",
        "    title = 'Cone'\n",
        "\n",
        "    def __init__(self, r:float, h:float):\n",
        "       super().__init__(r, h)\n",
        "\n",
        "    def generating(self): \n",
        "        return math.sqrt(self.__r ** 2 + self.__h ** 2)\n",
        "    \n",
        "    def area(self):\n",
        "        return (self.__r ** 2 * Cone.pi) + (self.__r * Cone.pi * self.generating())\n"
      ],
      "execution_count": 33,
      "outputs": []
    },
    {
      "cell_type": "markdown",
      "metadata": {
        "id": "bovKzTiDlE-P"
      },
      "source": [
        "# Unit tests for shapes"
      ]
    },
    {
      "cell_type": "code",
      "metadata": {
        "id": "HftLo_XVhwPl"
      },
      "source": [
        "import unittest\n",
        "\n",
        "class TestSquare(unittest.TestCase):\n",
        "\n",
        "    def test_area(self):\n",
        "        square = Square(5)\n",
        "        result = square.area()                                        \n",
        "        self.assertEqual(result, 25)\n",
        "    \n",
        "    def test_perimeter(self):\n",
        "        square = Square(2)\n",
        "        result = square.perimeter()                                        \n",
        "        self.assertEqual(result, 24)"
      ],
      "execution_count": 34,
      "outputs": []
    },
    {
      "cell_type": "code",
      "metadata": {
        "id": "vRu6dTwdi_b1"
      },
      "source": [
        "testSquare = TestSquare() \n",
        "testSquare.test_area()\n",
        "testSquare.test_perimeter()"
      ],
      "execution_count": 35,
      "outputs": []
    },
    {
      "cell_type": "markdown",
      "metadata": {
        "id": "LnaAKuMTcyra"
      },
      "source": [
        "# Get side from user"
      ]
    },
    {
      "cell_type": "code",
      "metadata": {
        "id": "gmi2SVDpyVFr"
      },
      "source": [
        "def get_side_from_user(side_name:str):\n",
        "  side = 0\n",
        "  while not isinstance(side, float):\n",
        "      try:\n",
        "          side = float(input(f\"Enter {side_name} \\n\"))\n",
        "      except ValueError:\n",
        "          print('Incorrect value. Please, try again.')\n",
        "          print()\n",
        "  return side"
      ],
      "execution_count": 36,
      "outputs": []
    },
    {
      "cell_type": "markdown",
      "metadata": {
        "id": "3eFOWl5be-19"
      },
      "source": [
        "# Define shape and return sides"
      ]
    },
    {
      "cell_type": "code",
      "metadata": {
        "id": "dMQkFoYHL41t"
      },
      "source": [
        "def asking_for_enter_side_or_radius(param:str):\n",
        "    if (param == 'Circle' or param == 'Sphere'):\n",
        "        return get_side_from_user('radius')\n",
        "    \n",
        "    elif (param == 'Square' or param == 'Cube'):\n",
        "        return get_side_from_user('side')\n",
        "    \n",
        "    elif (param == 'Rectangle'):\n",
        "        side_a = get_side_from_user('side')\n",
        "        side_b = get_side_from_user('side')        \n",
        "        return [side_a, side_b]\n",
        "    \n",
        "    elif (param == 'Triangle'):\n",
        "        height = get_side_from_user('height')\n",
        "        base = get_side_from_user('base edge')\n",
        "        return [height, base]\n",
        "\n",
        "    elif (param == 'Rhombus'):\n",
        "        height = get_side_from_user('height')\n",
        "        base = get_side_from_user('base edge')\n",
        "        return [height, base]\n",
        "\n",
        "    elif (param == 'Trapezoid'):\n",
        "        top_base = get_side_from_user('top base')\n",
        "        bottom_base = get_side_from_user('bottom base')\n",
        "        height = get_side_from_user('height')\n",
        "        return [top_base, bottom_base, height]\n",
        "\n",
        "    elif (param == 'Parallelepiped'):\n",
        "        side_a = get_side_from_user('first edge')\n",
        "        side_b = get_side_from_user('second edge')\n",
        "        height = get_side_from_user('height')\n",
        "        return [side_a, side_b, height]\n",
        "\n",
        "    elif (param == 'Pyramid'):\n",
        "        base_edge = get_side_from_user('base edge')\n",
        "        side_edge = get_side_from_user('side edge')\n",
        "        return [base_edge, side_edge]\n",
        "\n",
        "    elif (param == 'Cylinder'):\n",
        "        radius = get_side_from_user('radius')\n",
        "        height = get_side_from_user('height')\n",
        "        return [radius, height]\n",
        "    \n",
        "    elif (param == 'Cone'):\n",
        "        radius = get_side_from_user('radius')\n",
        "        height = get_side_from_user('height')\n",
        "        return [radius, height]"
      ],
      "execution_count": 37,
      "outputs": []
    },
    {
      "cell_type": "markdown",
      "metadata": {
        "id": "DR4zshJUdQ3K"
      },
      "source": [
        "# Define shape and return it's object  "
      ]
    },
    {
      "cell_type": "code",
      "metadata": {
        "id": "BcuKfbSxNsXO"
      },
      "source": [
        "def define_shape(shape:str):\n",
        "    if (shape == 'Square'):\n",
        "        side = asking_for_enter_side_or_radius('Square')    \n",
        "        square = Square(side)\n",
        "        return square\n",
        "      \n",
        "    elif (shape == 'Cube'):\n",
        "        side = asking_for_enter_side_or_radius('Cube')\n",
        "        cube = Cube(side)\n",
        "        return cube\n",
        "\n",
        "    elif (shape == 'Circle'):\n",
        "        radius = asking_for_enter_side_or_radius('Circle')\n",
        "        circle = Circle(radius)\n",
        "        return circle\n",
        "    \n",
        "    elif (shape == 'Sphere'):\n",
        "        radius = asking_for_enter_side_or_radius('Sphere')\n",
        "        sphere = Sphere(radius)\n",
        "        return sphere\n",
        "\n",
        "    elif (shape == 'Rectangle'):\n",
        "        [side_a, side_b]  = asking_for_enter_side_or_radius('Rectangle')\n",
        "        rectangle = Rectangle(side_a, side_b)\n",
        "        return rectangle\n",
        "\n",
        "    elif (shape == 'Triangle'):\n",
        "        [hight, base] = asking_for_enter_side_or_radius('Triangle')\n",
        "        triangle = Triangle(hight, base)\n",
        "        return triangle\n",
        "    \n",
        "    elif (shape == 'Rhombus'):\n",
        "        hight, base = asking_for_enter_side_or_radius('Rhombus')\n",
        "        rhombus = Rhombus(hight, base)\n",
        "        return rhombus\n",
        "    \n",
        "    elif (shape == 'Trapezoid'):\n",
        "        [side_a, side_b, hight] = asking_for_enter_side_or_radius('Rhombus')\n",
        "        trapezoid = Trapezoid(side_a, side_b, hight)\n",
        "        return trapezoid\n",
        "\n",
        "    elif (shape == 'Parallelepiped'):\n",
        "        [side_a, side_b, hight] = asking_for_enter_side_or_radius('Parallelepiped')\n",
        "        parallelepiped = Parallelepiped(side_a, side_b, hight)\n",
        "        return parallelepiped\n",
        "    \n",
        "    elif (shape == 'Pyramid'):\n",
        "        [base_edge, side_edge] = asking_for_enter_side_or_radius('Pyramid')\n",
        "        pyramid = Pyramid(base_edge, side_edge)\n",
        "        return pyramid\n",
        "    \n",
        "    elif (shape == 'Cylinder'):\n",
        "        [radius, height] = asking_for_enter_side_or_radius('Cylinder')\n",
        "        cylinder = Cylinder(radius, height)\n",
        "        return cylinder\n",
        "    \n",
        "    elif (shape == 'Cone'):\n",
        "        [radius, height] = asking_for_enter_side_or_radius('Cone')\n",
        "        cone = Cone(radius, height)\n",
        "        return cone\n",
        "    \n",
        "    else:\n",
        "        print(\"Not found shape\")\n",
        "        return 0"
      ],
      "execution_count": 38,
      "outputs": []
    },
    {
      "cell_type": "markdown",
      "metadata": {
        "id": "w3YedqzvgtbI"
      },
      "source": [
        "# Main part of program "
      ]
    },
    {
      "cell_type": "code",
      "metadata": {
        "id": "Sea07OQI-j4s",
        "colab": {
          "base_uri": "https://localhost:8080/"
        },
        "outputId": "3972e85a-4dc5-4c06-e3fb-1afc321055f9"
      },
      "source": [
        "shapes = {\n",
        "    1 : 'Square', \n",
        "    2 : 'Cube', \n",
        "    3 : 'Circle',\n",
        "    4 : 'Rectangle',\n",
        "    5 : 'Triangle',\n",
        "    6 : 'Trapezoid',\n",
        "    7 : 'Rhombus',\n",
        "    8 : 'Parallelepiped',\n",
        "    9 : 'Pyramid',\n",
        "    10 : 'Sphere',\n",
        "    11 : 'Cylinder',\n",
        "    12 : 'Cone',    \n",
        "    }\n",
        "\n",
        "while (True):\n",
        "\n",
        "    # Display shapes for user\n",
        "    print(\"Shapes:\")\n",
        "    for number, value in shapes.items():\n",
        "        print(number, ' - ', value)\n",
        "    print()\n",
        "\n",
        "\n",
        "    # Getting figure from user\n",
        "    shape_number = 0\n",
        "    while shape_number not in shapes.keys():\n",
        "        try:\n",
        "            shape_number = int(input('Please enter shape number\\n'))\n",
        "        except ValueError:\n",
        "            print('Incorrect value. Please, try again.')\n",
        "            print()\n",
        "    \n",
        "    print('Your shape is', shapes[shape_number])\n",
        "    print()\n",
        "\n",
        "    # Getting from user type of calculation with shape(perimeter, area)\n",
        "    type_of_calculation = 0\n",
        "\n",
        "    while type_of_calculation not in (1, 2):\n",
        "        try:\n",
        "            type_of_calculation = int(input(\"Enter 1 for calculate perimeter \"\n",
        "                                             \"and 2 for area\\n\"))\n",
        "        except ValueError:\n",
        "            print('Incorrect value. Please, try again.')\n",
        "            print()\n",
        "\n",
        "    # Calculate user need\n",
        "    if (type_of_calculation == 2):\n",
        "        shape = define_shape(shapes[shape_number])\n",
        "        if (shape != 0):\n",
        "            print(f\"Area of {shapes[shape_number]} = {shape.area()}\")\n",
        "        \n",
        "    else:\n",
        "        shape = define_shape(shapes[shape_number])\n",
        "        if (shape != 0):\n",
        "            print(f\"Perimeter of {shapes[shape_number]} = {shape.perimeter()}\")\n",
        "\n",
        "    print()\n",
        "\n",
        "    is_continue = None\n",
        "    while is_continue not in ('y', 'n'):\n",
        "        try:\n",
        "            is_continue = input(\"Do you wan't to continue? \" \n",
        "                                        \"To continue pres 'y' and to exit 'n'\" \n",
        "                                        \"\\n\").lower()\n",
        "        except ValueError:\n",
        "            print('Incorrect value. Please, try again.')\n",
        "            print()\n",
        "\n",
        "    if (is_continue == 'n'):\n",
        "        break;\n",
        "\n",
        "    print(\"\\n\" * 100)"
      ],
      "execution_count": 39,
      "outputs": [
        {
          "name": "stdout",
          "output_type": "stream",
          "text": [
            "Shapes:\n",
            "1  -  Square\n",
            "2  -  Cube\n",
            "3  -  Circle\n",
            "4  -  Rectangle\n",
            "5  -  Triangle\n",
            "6  -  Trapezoid\n",
            "7  -  Rhombus\n",
            "8  -  Parallelepiped\n",
            "9  -  Pyramid\n",
            "10  -  Sphere\n",
            "11  -  Cylinder\n",
            "12  -  Cone\n",
            "\n",
            "Please enter shape number\n",
            "1\n",
            "Your shape is Square\n",
            "\n",
            "Enter 1 for calculate perimeter and 2 for area\n",
            "1\n",
            "Enter side \n",
            "4\n",
            "Perimeter of Square = 48.0\n",
            "\n",
            "Do you wan't to continue? To continue pres 'y' and to exit 'n'\n",
            "n\n"
          ]
        }
      ]
    }
  ]
}